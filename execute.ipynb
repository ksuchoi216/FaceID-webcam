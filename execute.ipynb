{
 "cells": [
  {
   "cell_type": "markdown",
   "metadata": {},
   "source": [
    "# Face identification"
   ]
  },
  {
   "cell_type": "code",
   "execution_count": 6,
   "metadata": {},
   "outputs": [
    {
     "name": "stdout",
     "output_type": "stream",
     "text": [
      "Start video capturing...\n",
      "INFO: Created TensorFlow Lite XNNPACK delegate for CPU.\n",
      "Using cache found in /Users/KC/.cache/torch/hub/ultralytics_yolov5_master\n",
      "YOLOv5 🚀 2022-7-1 Python-3.9.12 torch-1.11.0 CPU\n",
      "\n",
      "Fusing layers... \n",
      "YOLOv5s summary: 213 layers, 7225885 parameters, 0 gradients\n",
      "Adding AutoShape... \n",
      "frame dimension: 720, 1280\n",
      "correct_coords: [200 640]\n"
     ]
    }
   ],
   "source": [
    "!python main.py"
   ]
  },
  {
   "cell_type": "code",
   "execution_count": 6,
   "metadata": {},
   "outputs": [
    {
     "name": "stdout",
     "output_type": "stream",
     "text": [
      "--2022-09-27 10:59:02--  http://dlib.net/files/shape_predictor_68_face_landmarks.dat.bz2\n",
      "Resolving dlib.net (dlib.net)... 107.180.26.78\n",
      "Connecting to dlib.net (dlib.net)|107.180.26.78|:80... connected.\n",
      "HTTP request sent, awaiting response... 200 OK\n",
      "Length: 64040097 (61M)\n",
      "Saving to: 'shape_predictor_68_face_landmarks.dat.bz2'\n",
      "\n",
      "shape_predictor_68_ 100%[===================>]  61.07M  15.0MB/s    in 5.4s    \n",
      "\n",
      "2022-09-27 10:59:08 (11.2 MB/s) - 'shape_predictor_68_face_landmarks.dat.bz2' saved [64040097/64040097]\n",
      "\n",
      "bunzip2: Can't open input file ./face_landmaker.dat.bz2: No such file or directory.\n"
     ]
    }
   ],
   "source": [
    "!wget   http://dlib.net/files/shape_predictor_68_face_landmarks.dat.bz2 # DOWNLOAD LINK\n",
    " \n",
    "!bunzip2 ./shape_predictor_68_face_landmarks.dat.bz2"
   ]
  },
  {
   "cell_type": "code",
   "execution_count": 2,
   "metadata": {},
   "outputs": [
    {
     "name": "stdout",
     "output_type": "stream",
     "text": [
      "gray: (720, 1280) / <class 'numpy.ndarray'> rect: [(527, 260) (795, 528)] / <class '_dlib_pybind11.rectangle'>\n",
      "Traceback (most recent call last):\n",
      "  File \"/Users/KC/code/FaceID-webcam/test.py\", line 66, in <module>\n",
      "    print(f'rect test: {rect[0]} {rect[1]}')\n",
      "TypeError: '_dlib_pybind11.rectangle' object is not subscriptable\n"
     ]
    }
   ],
   "source": [
    "!python test.py"
   ]
  },
  {
   "cell_type": "code",
   "execution_count": 3,
   "metadata": {},
   "outputs": [
    {
     "name": "stdout",
     "output_type": "stream",
     "text": [
      "[(400, 200) (600, 100)] <class '_dlib_pybind11.rectangle'>\n",
      "400\n"
     ]
    }
   ],
   "source": [
    "import dlib\n",
    "\n",
    "start_point = [400, 200]\n",
    "end_point = [700, 500]\n",
    "rect = dlib.rectangle(left=start_point[0],\n",
    "                      top=200, bottom=100)\n",
    "\n",
    "print(rect, type(rect))\n",
    "print(rect.left())"
   ]
  },
  {
   "cell_type": "code",
   "execution_count": null,
   "metadata": {},
   "outputs": [],
   "source": []
  },
  {
   "cell_type": "code",
   "execution_count": null,
   "metadata": {},
   "outputs": [],
   "source": []
  }
 ],
 "metadata": {
  "kernelspec": {
   "display_name": "Python 3.9.12 ('base')",
   "language": "python",
   "name": "python3"
  },
  "language_info": {
   "codemirror_mode": {
    "name": "ipython",
    "version": 3
   },
   "file_extension": ".py",
   "mimetype": "text/x-python",
   "name": "python",
   "nbconvert_exporter": "python",
   "pygments_lexer": "ipython3",
   "version": "3.9.12"
  },
  "orig_nbformat": 4,
  "vscode": {
   "interpreter": {
    "hash": "f7e53c7a5dd107727262858c37e51358135f2c73087618e08d8ec37a9ce1ae5b"
   }
  }
 },
 "nbformat": 4,
 "nbformat_minor": 2
}
