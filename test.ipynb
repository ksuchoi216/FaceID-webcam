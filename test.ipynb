{
 "cells": [
  {
   "cell_type": "markdown",
   "metadata": {},
   "source": [
    "# Face identification"
   ]
  },
  {
   "cell_type": "code",
   "execution_count": 3,
   "metadata": {},
   "outputs": [
    {
     "name": "stdout",
     "output_type": "stream",
     "text": [
      "The autoreload extension is already loaded. To reload it, use:\n",
      "  %reload_ext autoreload\n",
      "sys.path: ['/notebook/personal/ksuchoi216/face-id-webcam/', '/notebook', '/root/.pyenv/versions/3.9.1/lib/python39.zip', '/root/.pyenv/versions/3.9.1/lib/python3.9', '/root/.pyenv/versions/3.9.1/lib/python3.9/lib-dynload', '', '/root/.pyenv/versions/python39/lib/python3.9/site-packages']\n"
     ]
    }
   ],
   "source": [
    "%load_ext autoreload\n",
    "%autoreload 2\n",
    "%matplotlib inline\n",
    "import json, os, sys\n",
    "import matplotlib.pyplot as plt\n",
    "\n",
    "import torch\n",
    "import torch.nn as nn\n",
    "import torch.optim as optim\n",
    "from torch.optim import lr_scheduler\n",
    "import torch.backends.cudnn as cudnn\n",
    "\n",
    "cudnn.benchmark = True\n",
    "plt.ion()\n",
    "\n",
    "path_to_be_add = '/notebook/personal/ksuchoi216/face-id-webcam/'\n",
    "if not path_to_be_add in sys.path:\n",
    "  sys.path.insert(0, path_to_be_add)\n",
    "  os.chdir(path_to_be_add)\n",
    "\n",
    "print(f'sys.path: {sys.path}')\n",
    "\n",
    "def load_config():\n",
    "  path_for_config = './configs/config.json'\n",
    "  with open(path_for_config) as f:\n",
    "    cfg = json.load(f)\n",
    "  return cfg\n",
    "\n",
    "cfg = load_config()"
   ]
  },
  {
   "cell_type": "code",
   "execution_count": 5,
   "metadata": {},
   "outputs": [
    {
     "name": "stdout",
     "output_type": "stream",
     "text": [
      "Traceback (most recent call last):\n",
      "  File \"/notebook/personal/ksuchoi216/face-id-webcam/main.py\", line 10, in <module>\n",
      "    from modules import DataAdministrator, FaceAnalyst, FaceRegisterer, DecisionMaker\n",
      "  File \"/notebook/personal/ksuchoi216/face-id-webcam/modules/__init__.py\", line 1, in <module>\n",
      "    from .FaceAnalyst import *\n",
      "  File \"/notebook/personal/ksuchoi216/face-id-webcam/modules/FaceAnalyst.py\", line 16, in <module>\n",
      "    import mediapipe as mp\n",
      "ModuleNotFoundError: No module named 'mediapipe'\n"
     ]
    }
   ],
   "source": [
    "!python main.py --new_user_name \"kc\""
   ]
  }
 ],
 "metadata": {
  "kernelspec": {
   "display_name": "python39",
   "language": "python",
   "name": "python39"
  },
  "language_info": {
   "codemirror_mode": {
    "name": "ipython",
    "version": 3
   },
   "file_extension": ".py",
   "mimetype": "text/x-python",
   "name": "python",
   "nbconvert_exporter": "python",
   "pygments_lexer": "ipython3",
   "version": "3.9.1"
  },
  "orig_nbformat": 4,
  "vscode": {
   "interpreter": {
    "hash": "f7e53c7a5dd107727262858c37e51358135f2c73087618e08d8ec37a9ce1ae5b"
   }
  }
 },
 "nbformat": 4,
 "nbformat_minor": 2
}
