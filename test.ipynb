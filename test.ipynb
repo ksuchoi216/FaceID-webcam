{
 "cells": [
  {
   "cell_type": "markdown",
   "metadata": {},
   "source": [
    "# Face identification"
   ]
  },
  {
   "cell_type": "code",
   "execution_count": 1,
   "metadata": {},
   "outputs": [
    {
     "name": "stdout",
     "output_type": "stream",
     "text": [
      "new_user_name :  kc\n",
      "INFO: Created TensorFlow Lite XNNPACK delegate for CPU.\n",
      "Using cache found in /Users/KC/.cache/torch/hub/ultralytics_yolov5_master\n",
      "YOLOv5 🚀 2022-7-1 Python-3.9.12 torch-1.11.0 CPU\n",
      "\n",
      "Fusing layers... \n",
      "YOLOv5s summary: 213 layers, 7225885 parameters, 0 gradients\n",
      "Adding AutoShape... \n",
      "\n",
      "start video capturing\n",
      "tensor([[0.05418, 0.82689, 0.04273, 0.99010]], grad_fn=<SigmoidBackward0>)\n",
      "prob: tensor([0.99010], grad_fn=<MaxBackward0>) index: tensor([3])\n",
      "tensor([[0.06279, 0.60980, 0.05983, 0.99305]], grad_fn=<SigmoidBackward0>)\n",
      "prob: tensor([0.99305], grad_fn=<MaxBackward0>) index: tensor([3])\n",
      "tensor([[0.04420, 0.82391, 0.04260, 0.98657]], grad_fn=<SigmoidBackward0>)\n",
      "prob: tensor([0.98657], grad_fn=<MaxBackward0>) index: tensor([3])\n",
      "tensor([[0.08249, 0.46903, 0.03367, 0.99176]], grad_fn=<SigmoidBackward0>)\n",
      "prob: tensor([0.99176], grad_fn=<MaxBackward0>) index: tensor([3])\n",
      "tensor([[0.06507, 0.87618, 0.04125, 0.98229]], grad_fn=<SigmoidBackward0>)\n",
      "prob: tensor([0.98229], grad_fn=<MaxBackward0>) index: tensor([3])\n",
      "tensor([[0.02401, 0.53562, 0.16943, 0.99488]], grad_fn=<SigmoidBackward0>)\n",
      "prob: tensor([0.99488], grad_fn=<MaxBackward0>) index: tensor([3])\n",
      "tensor([[0.04363, 0.70098, 0.10175, 0.99539]], grad_fn=<SigmoidBackward0>)\n",
      "prob: tensor([0.99539], grad_fn=<MaxBackward0>) index: tensor([3])\n",
      "tensor([[0.02520, 0.44036, 0.28652, 0.99577]], grad_fn=<SigmoidBackward0>)\n",
      "prob: tensor([0.99577], grad_fn=<MaxBackward0>) index: tensor([3])\n",
      "tensor([[0.05735, 0.91780, 0.03023, 0.98524]], grad_fn=<SigmoidBackward0>)\n",
      "prob: tensor([0.98524], grad_fn=<MaxBackward0>) index: tensor([3])\n",
      "tensor([[0.13931, 0.42661, 0.12673, 0.97767]], grad_fn=<SigmoidBackward0>)\n",
      "prob: tensor([0.97767], grad_fn=<MaxBackward0>) index: tensor([3])\n",
      "tensor([[0.06238, 0.45423, 0.04733, 0.99662]], grad_fn=<SigmoidBackward0>)\n",
      "prob: tensor([0.99662], grad_fn=<MaxBackward0>) index: tensor([3])\n",
      "tensor([[0.13157, 0.52325, 0.15786, 0.98701]], grad_fn=<SigmoidBackward0>)\n",
      "prob: tensor([0.98701], grad_fn=<MaxBackward0>) index: tensor([3])\n",
      "tensor([[0.08851, 0.87981, 0.02556, 0.99174]], grad_fn=<SigmoidBackward0>)\n",
      "prob: tensor([0.99174], grad_fn=<MaxBackward0>) index: tensor([3])\n",
      "tensor([[0.10824, 0.47789, 0.11516, 0.99305]], grad_fn=<SigmoidBackward0>)\n",
      "prob: tensor([0.99305], grad_fn=<MaxBackward0>) index: tensor([3])\n",
      "tensor([[0.03962, 0.64950, 0.11918, 0.99328]], grad_fn=<SigmoidBackward0>)\n",
      "prob: tensor([0.99328], grad_fn=<MaxBackward0>) index: tensor([3])\n",
      "tensor([[0.09567, 0.52386, 0.14452, 0.98987]], grad_fn=<SigmoidBackward0>)\n",
      "prob: tensor([0.98987], grad_fn=<MaxBackward0>) index: tensor([3])\n",
      "tensor([[0.16800, 0.38066, 0.25974, 0.95965]], grad_fn=<SigmoidBackward0>)\n",
      "prob: tensor([0.95965], grad_fn=<MaxBackward0>) index: tensor([3])\n",
      "tensor([[0.18342, 0.60618, 0.17834, 0.96079]], grad_fn=<SigmoidBackward0>)\n",
      "prob: tensor([0.96079], grad_fn=<MaxBackward0>) index: tensor([3])\n",
      "tensor([[0.11021, 0.40183, 0.23179, 0.97915]], grad_fn=<SigmoidBackward0>)\n",
      "prob: tensor([0.97915], grad_fn=<MaxBackward0>) index: tensor([3])\n",
      "tensor([[0.05339, 0.70061, 0.13271, 0.98948]], grad_fn=<SigmoidBackward0>)\n",
      "prob: tensor([0.98948], grad_fn=<MaxBackward0>) index: tensor([3])\n",
      "tensor([[0.05116, 0.50535, 0.35051, 0.98796]], grad_fn=<SigmoidBackward0>)\n",
      "prob: tensor([0.98796], grad_fn=<MaxBackward0>) index: tensor([3])\n",
      "tensor([[0.05496, 0.82205, 0.04856, 0.99665]], grad_fn=<SigmoidBackward0>)\n",
      "prob: tensor([0.99665], grad_fn=<MaxBackward0>) index: tensor([3])\n",
      "tensor([[0.07720, 0.69564, 0.09060, 0.98126]], grad_fn=<SigmoidBackward0>)\n",
      "prob: tensor([0.98126], grad_fn=<MaxBackward0>) index: tensor([3])\n",
      "tensor([[0.28638, 0.49043, 0.02574, 0.97058]], grad_fn=<SigmoidBackward0>)\n",
      "prob: tensor([0.97058], grad_fn=<MaxBackward0>) index: tensor([3])\n",
      "tensor([[0.07840, 0.48510, 0.09833, 0.99323]], grad_fn=<SigmoidBackward0>)\n",
      "prob: tensor([0.99323], grad_fn=<MaxBackward0>) index: tensor([3])\n",
      "tensor([[0.17453, 0.62202, 0.13927, 0.96367]], grad_fn=<SigmoidBackward0>)\n",
      "prob: tensor([0.96367], grad_fn=<MaxBackward0>) index: tensor([3])\n",
      "tensor([[0.15116, 0.73867, 0.21589, 0.93283]], grad_fn=<SigmoidBackward0>)\n",
      "prob: tensor([0.93283], grad_fn=<MaxBackward0>) index: tensor([3])\n",
      "tensor([[0.15200, 0.40755, 0.05581, 0.98798]], grad_fn=<SigmoidBackward0>)\n",
      "prob: tensor([0.98798], grad_fn=<MaxBackward0>) index: tensor([3])\n",
      "tensor([[0.17299, 0.29702, 0.01098, 0.99769]], grad_fn=<SigmoidBackward0>)\n",
      "prob: tensor([0.99769], grad_fn=<MaxBackward0>) index: tensor([3])\n",
      "tensor([[0.18167, 0.98546, 0.09203, 0.56800]], grad_fn=<SigmoidBackward0>)\n",
      "prob: tensor([0.98546], grad_fn=<MaxBackward0>) index: tensor([1])\n",
      "tensor([[0.12741, 0.98210, 0.00452, 0.94771]], grad_fn=<SigmoidBackward0>)\n",
      "prob: tensor([0.98210], grad_fn=<MaxBackward0>) index: tensor([1])\n",
      "tensor([[0.04190, 0.83809, 0.05593, 0.99145]], grad_fn=<SigmoidBackward0>)\n",
      "prob: tensor([0.99145], grad_fn=<MaxBackward0>) index: tensor([3])\n",
      "tensor([[0.07939, 0.99745, 0.00164, 0.88045]], grad_fn=<SigmoidBackward0>)\n",
      "prob: tensor([0.99745], grad_fn=<MaxBackward0>) index: tensor([1])\n",
      "tensor([[0.04247, 0.72293, 0.11070, 0.99146]], grad_fn=<SigmoidBackward0>)\n",
      "prob: tensor([0.99146], grad_fn=<MaxBackward0>) index: tensor([3])\n",
      "tensor([[0.03892, 0.70912, 0.09234, 0.99656]], grad_fn=<SigmoidBackward0>)\n",
      "prob: tensor([0.99656], grad_fn=<MaxBackward0>) index: tensor([3])\n",
      "tensor([[0.03624, 0.94648, 0.05445, 0.98500]], grad_fn=<SigmoidBackward0>)\n",
      "prob: tensor([0.98500], grad_fn=<MaxBackward0>) index: tensor([3])\n",
      "tensor([[0.14070, 0.97503, 0.02349, 0.94256]], grad_fn=<SigmoidBackward0>)\n",
      "prob: tensor([0.97503], grad_fn=<MaxBackward0>) index: tensor([1])\n",
      "tensor([[0.02200, 0.60653, 0.21382, 0.98457]], grad_fn=<SigmoidBackward0>)\n",
      "prob: tensor([0.98457], grad_fn=<MaxBackward0>) index: tensor([3])\n",
      "tensor([[0.09735, 0.93108, 0.02050, 0.98255]], grad_fn=<SigmoidBackward0>)\n",
      "prob: tensor([0.98255], grad_fn=<MaxBackward0>) index: tensor([3])\n",
      "tensor([[0.26504, 0.75876, 0.07161, 0.90947]], grad_fn=<SigmoidBackward0>)\n",
      "prob: tensor([0.90947], grad_fn=<MaxBackward0>) index: tensor([3])\n",
      "tensor([[0.51759, 0.55123, 0.08108, 0.87003]], grad_fn=<SigmoidBackward0>)\n",
      "prob: tensor([0.87003], grad_fn=<MaxBackward0>) index: tensor([3])\n",
      "tensor([[0.32057, 0.30069, 0.29461, 0.93332]], grad_fn=<SigmoidBackward0>)\n",
      "prob: tensor([0.93332], grad_fn=<MaxBackward0>) index: tensor([3])\n",
      "tensor([[0.22401, 0.24680, 0.03133, 0.99422]], grad_fn=<SigmoidBackward0>)\n",
      "prob: tensor([0.99422], grad_fn=<MaxBackward0>) index: tensor([3])\n"
     ]
    }
   ],
   "source": [
    "!python main.py --new_user_name \"kc\""
   ]
  }
 ],
 "metadata": {
  "kernelspec": {
   "display_name": "Python 3.9.12 ('base')",
   "language": "python",
   "name": "python3"
  },
  "language_info": {
   "codemirror_mode": {
    "name": "ipython",
    "version": 3
   },
   "file_extension": ".py",
   "mimetype": "text/x-python",
   "name": "python",
   "nbconvert_exporter": "python",
   "pygments_lexer": "ipython3",
   "version": "3.9.12"
  },
  "orig_nbformat": 4,
  "vscode": {
   "interpreter": {
    "hash": "f7e53c7a5dd107727262858c37e51358135f2c73087618e08d8ec37a9ce1ae5b"
   }
  }
 },
 "nbformat": 4,
 "nbformat_minor": 2
}
